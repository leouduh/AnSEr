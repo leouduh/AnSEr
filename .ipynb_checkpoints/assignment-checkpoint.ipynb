{
 "cells": [
  {
   "cell_type": "code",
   "execution_count": 2,
   "id": "992d3d21",
   "metadata": {},
   "outputs": [],
   "source": [
    "annotations_path = 'Train_dataset/NewChannelAnnotations'\n",
    "eeg_path = 'Train_dataset/NewChannelAnnotat'\n",
    "list_of_patients = []\n"
   ]
  },
  {
   "cell_type": "code",
   "execution_count": null,
   "id": "3c3db583",
   "metadata": {},
   "outputs": [],
   "source": []
  }
 ],
 "metadata": {
  "kernelspec": {
   "display_name": "EnvironmentA",
   "language": "python",
   "name": "environmenta"
  },
  "language_info": {
   "codemirror_mode": {
    "name": "ipython",
    "version": 3
   },
   "file_extension": ".py",
   "mimetype": "text/x-python",
   "name": "python",
   "nbconvert_exporter": "python",
   "pygments_lexer": "ipython3",
   "version": "3.10.4"
  }
 },
 "nbformat": 4,
 "nbformat_minor": 5
}
